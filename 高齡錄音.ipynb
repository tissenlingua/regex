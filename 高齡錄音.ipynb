{
 "cells": [
  {
   "cell_type": "code",
   "execution_count": 38,
   "id": "2ff9bef2",
   "metadata": {},
   "outputs": [
    {
     "name": "stdout",
     "output_type": "stream",
     "text": [
      "'XXX先生XXX女士'  False\n",
      "'XXX先生, XXX女士'  False\n",
      "'X先生'  False\n",
      "'X女士'  False\n",
      "'張大大先生/ 陳美美女士，'  True\n"
     ]
    }
   ],
   "source": [
    "import re\n",
    "\n",
    "# 使用正規表示式匹配合規句子\n",
    "pattern = re.compile(r'[\\u4e00-\\u9fa5]+先生\\s?[/]?(?:以及|和|與|跟)?\\s?\\s?[\\u4e00-\\u9fa5]+女士')\n",
    "\n",
    "def is_sentence_valid(sentence):\n",
    "    return bool(pattern.match(sentence))\n",
    "\n",
    "# 以下為測試句子\n",
    "sentences = [\"XXX先生XXX女士\", \"XXX先生, XXX女士\", \"X先生\", \"X女士\",\"張大大先生/ 陳美美女士，\"]\n",
    "\n",
    "for sentence in sentences:\n",
    "    print(f\"'{sentence}'  {is_sentence_valid(sentence)}\")\n"
   ]
  },
  {
   "cell_type": "code",
   "execution_count": 55,
   "id": "aeafb98c",
   "metadata": {},
   "outputs": [
    {
     "name": "stdout",
     "output_type": "stream",
     "text": [
      "'業務員登錄字號'  True\n",
      "'業務員登錄證字號'  True\n",
      "'業務員登錄證證號'  True\n",
      "'業務員登記字號'  True\n",
      "'業務員登錄證號'  True\n",
      "'業務員登錄號碼'  True\n",
      "'業務員字號'  True\n",
      "'業務員登記號碼'  True\n",
      "'業務登錄字號'  True\n",
      "'業務登記證號'  True\n",
      "'業務證號'  True\n",
      "'登錄字號'  True\n",
      "'登錄證號'  True\n",
      "'業務員編號'  False\n",
      "'營業員登錄證號'  False\n",
      "'營業員登錄字號'  False\n"
     ]
    }
   ],
   "source": [
    "sentences = [\"業務員登錄字號\",\"業務員登錄證字號\",\"業務員登錄證證號\",\"業務員登記字號\",\"業務員登錄證號\",\"業務員登錄號碼\",\"業務員字號\",\"業務員登記號碼\",\"業務登錄字號\",\"業務登記證號\",\"業務證號\",\"登錄字號\", \"登錄證號\",\"業務員編號\",\"營業員登錄證號\",\"營業員登錄字號\"]\n",
    "\n",
    "pattern = re.compile(r'(業務|業務員|登錄|登記)(登錄|登記)?(字號|證字號|證證號|證號|號碼)')\n",
    "for sentence in sentences:\n",
    "    print(f\"'{sentence}'  {is_sentence_valid(sentence)}\")"
   ]
  },
  {
   "cell_type": "code",
   "execution_count": null,
   "id": "f89fb494",
   "metadata": {},
   "outputs": [],
   "source": [
    "sentences = [\"業務員登錄字號\",\"業務員登錄證字號\",\"業務員登錄證證號\",\"業務員登記字號\",\"業務員登錄證號\",\"業務員登錄號碼\",\"業務員字號\",\"業務員登記號碼\",\"業務登錄字號\",\"業務登記證號\",\"業務證號\",\"登錄字號\", \"登錄證號\",\"業務員編號\",\"營業員登錄證號\",\"營業員登錄字號\"]\n",
    "\n",
    "pattern = re.compile(r'(業務|業務員|登錄|登記)(登錄|登記)?(字號|證字號|證證號|證號|號碼)')\n",
    "for sentence in sentences:\n",
    "    print(f\"'{sentence}'  {is_sentence_valid(sentence)}\")"
   ]
  },
  {
   "cell_type": "code",
   "execution_count": 67,
   "id": "59620f8e",
   "metadata": {},
   "outputs": [
    {
     "name": "stdout",
     "output_type": "stream",
     "text": [
      "'我是服務於國泰世華銀行的吳小小'  True\n",
      "'我是服務於愷績銀行的吳小小'  True\n",
      "'我是服務於楷積銀行的, 我是服務於凱基銀行的'  True\n",
      "'我是服務於楷積的無曉曉'  False\n",
      "'我是服務於愷績的吳小小'  False\n",
      "'我是服務於銀行的吳小小'  True\n"
     ]
    }
   ],
   "source": [
    "\n",
    "# 使用正規表示式匹配合規句子\n",
    "# pattern = re.compile(r'[\\u4e00-\\u9fa5]+(銀行|人壽|證券|保險|保經代|經代)的[\\u4e00-\\u9fa5]?')\n",
    "\n",
    "pattern = re.compile(r'我是(服務於)?[\\u4e00-\\u9fa5]{1,4}(銀行|人壽|證券)(的)?([\\u4e00-\\u9fa5]{2,})?')\n",
    "\n",
    "def is_sentence_valid(sentence):\n",
    "    return bool(pattern.match(sentence))\n",
    "\n",
    "# 以下為測試句子\n",
    "sentences = [\"我是服務於國泰世華銀行的吳小小\",\"我是服務於愷績銀行的吳小小\", \"我是服務於楷積銀行的, 我是服務於凱基銀行的\", \"我是服務於楷積的無曉曉\", \"我是服務於愷績的吳小小\",\"我是服務於銀行的吳小小\"]\n",
    "\n",
    "for sentence in sentences:\n",
    "    print(f\"'{sentence}'  {is_sentence_valid(sentence)}\")"
   ]
  }
 ],
 "metadata": {
  "kernelspec": {
   "display_name": "Python 3 (ipykernel)",
   "language": "python",
   "name": "python3"
  },
  "language_info": {
   "codemirror_mode": {
    "name": "ipython",
    "version": 3
   },
   "file_extension": ".py",
   "mimetype": "text/x-python",
   "name": "python",
   "nbconvert_exporter": "python",
   "pygments_lexer": "ipython3",
   "version": "3.9.12"
  }
 },
 "nbformat": 4,
 "nbformat_minor": 5
}
